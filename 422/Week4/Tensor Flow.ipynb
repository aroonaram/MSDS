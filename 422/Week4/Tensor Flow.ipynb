{
 "cells": [
  {
   "cell_type": "code",
   "execution_count": 1,
   "metadata": {},
   "outputs": [],
   "source": [
    "import math\n",
    "import pandas as pd\n",
    "import numpy as np\n",
    "from operator import itemgetter"
   ]
  },
  {
   "cell_type": "code",
   "execution_count": 2,
   "metadata": {},
   "outputs": [],
   "source": [
    "import math\n",
    "import pandas as pd\n",
    "import numpy as np\n",
    "from operator import itemgetter\n",
    "\n",
    "\n",
    "import matplotlib.pyplot as plt\n",
    "import seaborn as sns\n",
    "\n",
    "\n",
    "from sklearn.model_selection import train_test_split\n",
    "import sklearn.metrics as metrics\n",
    "\n",
    "\n",
    "from sklearn import tree\n",
    "from sklearn.tree import _tree\n",
    "\n",
    "from sklearn.ensemble import RandomForestRegressor \n",
    "from sklearn.ensemble import RandomForestClassifier \n",
    "\n",
    "from sklearn.ensemble import GradientBoostingRegressor \n",
    "from sklearn.ensemble import GradientBoostingClassifier\n",
    "\n",
    "from sklearn.linear_model import LinearRegression\n",
    "from sklearn.linear_model import LogisticRegression\n",
    "from sklearn.metrics import classification_report, confusion_matrix\n",
    "\n",
    "from mlxtend.feature_selection import SequentialFeatureSelector as SFS\n",
    "from mlxtend.plotting import plot_sequential_feature_selection as plot_sfs\n",
    "\n",
    "import warnings\n",
    "warnings.filterwarnings(\"ignore\")\n",
    "\n"
   ]
  },
  {
   "cell_type": "code",
   "execution_count": 4,
   "metadata": {},
   "outputs": [],
   "source": [
    "df = pd.read_csv( \"C:\\\\Users\\\\aroon\\\\Desktop\\\\MSDS\\\\422\\\\MSDS422\\\\Unit 3\\\\ImputedDataset.csv\" )\n",
    "dt = df.dtypes\n",
    "TARGET_F = \"TARGET_BAD_FLAG\"\n",
    "TARGET_A = \"TARGET_LOSS_AMT\"\n"
   ]
  },
  {
   "cell_type": "code",
   "execution_count": 5,
   "metadata": {},
   "outputs": [
    {
     "name": "stdout",
     "output_type": "stream",
     "text": [
      "       TARGET_BAD_FLAG  TARGET_LOSS_AMT\n",
      "count            941.0       941.000000\n",
      "mean               1.0     13634.824655\n",
      "std                0.0     10836.172568\n",
      "min                1.0       224.000000\n",
      "25%                1.0      5837.000000\n",
      "50%                1.0     11266.000000\n",
      "75%                1.0     18069.000000\n",
      "max                1.0     78987.000000\n",
      "       TARGET_BAD_FLAG  TARGET_LOSS_AMT\n",
      "count            248.0       248.000000\n",
      "mean               1.0     12578.879032\n",
      "std                0.0     10833.019569\n",
      "min                1.0       320.000000\n",
      "25%                1.0      4921.000000\n",
      "50%                1.0      9693.500000\n",
      "75%                1.0     15601.250000\n",
      "max                1.0     73946.000000\n",
      "\n",
      "\n",
      "\n"
     ]
    }
   ],
   "source": [
    "\"\"\"\n",
    "SPLIT DATA\n",
    "\"\"\"\n",
    "\n",
    "X = df.copy()\n",
    "X = X.drop( TARGET_F, axis=1 )\n",
    "X = X.drop( TARGET_A, axis=1 )\n",
    "\n",
    "Y = df[ [TARGET_F, TARGET_A] ]\n",
    "\n",
    "X_train, X_test, Y_train, Y_test = train_test_split(X, Y, train_size=0.8, test_size=0.2, random_state=2)\n",
    "#X_train, X_test, Y_train, Y_test = train_test_split(X, Y, train_size=0.8, test_size=0.2 )\n",
    "\n",
    "##print( \"FLAG DATA\" )\n",
    "##print( \"TRAINING = \", X_train.shape )\n",
    "##print( \"TEST = \", X_test.shape )\n",
    "\n",
    "\n",
    "F = ~ Y_train[ TARGET_A ].isna()\n",
    "W_train = X_train[F].copy()\n",
    "Z_train = Y_train[F].copy()\n",
    "\n",
    "F = ~ Y_test[ TARGET_A ].isna()\n",
    "W_test = X_test[F].copy()\n",
    "Z_test = Y_test[F].copy()\n",
    "\n",
    "print( Z_train.describe() )\n",
    "print( Z_test.describe() )\n",
    "print( \"\\n\\n\")\n",
    "\n"
   ]
  },
  {
   "cell_type": "code",
   "execution_count": 6,
   "metadata": {},
   "outputs": [],
   "source": [
    "import tensorflow as tf"
   ]
  },
  {
   "cell_type": "code",
   "execution_count": 7,
   "metadata": {},
   "outputs": [
    {
     "data": {
      "text/plain": [
       "MinMaxScaler()"
      ]
     },
     "execution_count": 7,
     "metadata": {},
     "output_type": "execute_result"
    }
   ],
   "source": [
    "\n",
    "from sklearn.preprocessing import MinMaxScaler\n",
    "theScaler = MinMaxScaler()\n",
    "theScaler.fit( X_train )"
   ]
  },
  {
   "cell_type": "code",
   "execution_count": 8,
   "metadata": {},
   "outputs": [],
   "source": [
    "def get_TF_ProbAccuracyScores( NAME, MODEL, X, Y ) :\n",
    "    probs = MODEL.predict_proba( X )\n",
    "    pred_list = []\n",
    "    for p in probs :\n",
    "        pred_list.append( np.argmax( p ) )\n",
    "    pred = np.array( pred_list )\n",
    "    acc_score = metrics.accuracy_score(Y, pred)\n",
    "    p1 = probs[:,1]\n",
    "    fpr, tpr, threshold = metrics.roc_curve( Y, p1)\n",
    "    auc = metrics.auc(fpr,tpr)\n",
    "    return [NAME, acc_score, fpr, tpr, auc]"
   ]
  },
  {
   "cell_type": "code",
   "execution_count": 9,
   "metadata": {},
   "outputs": [],
   "source": [
    "WHO = \"Tensor_FLow\"\n",
    "\n",
    "U_train = theScaler.transform( X_train )\n",
    "U_test = theScaler.transform( X_test )\n",
    "\n",
    "U_train = pd.DataFrame( U_train )\n",
    "U_test = pd.DataFrame( U_test )\n",
    "\n",
    "U_train.columns = list( X_train.columns.values )\n",
    "U_test.columns = list( X_train.columns.values )"
   ]
  },
  {
   "cell_type": "code",
   "execution_count": 12,
   "metadata": {},
   "outputs": [],
   "source": [
    "\"\"\"\n",
    "MODEL ACCURACY METRICS AND FUNCTIONS\n",
    "\"\"\"\n",
    "\n",
    "def getProbAccuracyScores( NAME, MODEL, X, Y ) :\n",
    "    pred = MODEL.predict( X )\n",
    "    probs = MODEL.predict_proba( X )\n",
    "    acc_score = metrics.accuracy_score(Y, pred)\n",
    "    p1 = probs[:,1]\n",
    "    fpr, tpr, threshold = metrics.roc_curve( Y, p1)\n",
    "    auc = metrics.auc(fpr,tpr)\n",
    "    return [NAME, acc_score, fpr, tpr, auc]\n",
    "\n",
    "def getEnsembleTreeVars( ENSTREE, varNames ) :\n",
    "    importance = ENSTREE.feature_importances_\n",
    "    index = np.argsort(importance)\n",
    "    theList = []\n",
    "    for i in index :\n",
    "        imp_val = importance[i]\n",
    "        if imp_val > np.average( ENSTREE.feature_importances_ ) :\n",
    "            v = int( imp_val / np.max( ENSTREE.feature_importances_ ) * 100 )\n",
    "            theList.append( ( varNames[i], v ) )\n",
    "    theList = sorted(theList,key=itemgetter(1),reverse=True)\n",
    "    return theList\n",
    "\n",
    "def getAmtAccuracyScores( NAME, MODEL, X, Y ) :\n",
    "    pred = MODEL.predict( X )\n",
    "    MEAN = Y.mean()\n",
    "    RMSE = math.sqrt( metrics.mean_squared_error( Y, pred))\n",
    "    return [NAME, RMSE, MEAN]\n",
    "\n",
    "def getTreeVars( TREE, varNames ) :    \n",
    "    tree_ = TREE.tree_    \n",
    "    varName = [ varNames[i] \n",
    "               if i != _tree.TREE_UNDEFINED \n",
    "               else \"undefined!\" \n",
    "               for i in tree_.feature ]    \n",
    "    nameSet = set()    \n",
    "    for i in tree_.feature :        \n",
    "        if i != _tree.TREE_UNDEFINED :            \n",
    "            nameSet.add( i )    \n",
    "    nameList = list( nameSet )    \n",
    "    parameter_list = list()    \n",
    "    for i in nameList :        \n",
    "        parameter_list.append( varNames[i] )    \n",
    "    return parameter_list\n",
    "\n",
    "def print_ROC_Curve( TITLE, LIST ) :\n",
    "    fig = plt.figure(figsize=(6,4))\n",
    "    plt.title( TITLE )\n",
    "    for theResults in LIST :\n",
    "        NAME = theResults[0]\n",
    "        fpr = theResults[2]\n",
    "        tpr = theResults[3]\n",
    "        auc = theResults[4]\n",
    "        theLabel = \"AUC \" + NAME + ' %0.2f' % auc\n",
    "        plt.plot(fpr, tpr, label = theLabel )\n",
    "    plt.legend(loc = 'lower right')\n",
    "    plt.plot([0, 1], [0, 1],'r--')\n",
    "    plt.xlim([0, 1])\n",
    "    plt.ylim([0, 1])\n",
    "    plt.ylabel('True Positive Rate')\n",
    "    plt.xlabel('False Positive Rate')\n",
    "    plt.show()\n",
    "    \n",
    "def print_Accuracy( TITLE, LIST ) :\n",
    "    print( TITLE )\n",
    "    print( \"======\" )\n",
    "    for theResults in LIST :\n",
    "        NAME = theResults[0]\n",
    "        ACC = theResults[1]\n",
    "        print( NAME, \" = \", ACC )\n",
    "    print( \"------\\n\\n\" )"
   ]
  },
  {
   "cell_type": "code",
   "execution_count": 43,
   "metadata": {},
   "outputs": [
    {
     "data": {
      "image/png": "[encoded data removed]",
      "text/plain": [
       "<Figure size 432x288 with 1 Axes>"
      ]
     },
     "metadata": {
      "needs_background": "light"
     },
     "output_type": "display_data"
    },
    {
     "name": "stdout",
     "output_type": "stream",
     "text": [
      "TREE CLASSIFICATION ACCURACY\n",
      "======\n",
      "TREE_Train  =  0.8917785234899329\n",
      "TREE_Test  =  0.8649328859060402\n",
      "------\n",
      "\n",
      "\n",
      "TREE RMSE ACCURACY\n",
      "======\n",
      "TREE_Train  =  4638.616383413549\n",
      "TREE  =  6488.967497676028\n",
      "------\n",
      "\n",
      "\n"
     ]
    }
   ],
   "source": [
    "# DECISION TREE - LOAN DEFAULT\n",
    "\n",
    "WHO = \"TREE\"\n",
    "\n",
    "BAD = tree.DecisionTreeClassifier(max_depth = 5 )\n",
    "BAD = BAD.fit( X_train, Y_train[ TARGET_F ] )\n",
    "\n",
    "TRAIN_BAD = getProbAccuracyScores( WHO + \"_Train\", BAD, X_train, Y_train[ TARGET_F ] )\n",
    "TEST_BAD = getProbAccuracyScores( WHO + \"_Test\", BAD, X_test, Y_test[ TARGET_F ] )\n",
    "\n",
    "print_ROC_Curve( WHO, [ TRAIN_BAD, TEST_BAD ] ) \n",
    "print_Accuracy( WHO + \" CLASSIFICATION ACCURACY\", [ TRAIN_BAD, TEST_BAD ] )\n",
    "\n",
    "feature_cols = list( X.columns.values )\n",
    "\n",
    "\n",
    "\n",
    "WHO = \"TREE\"\n",
    "AMT = tree.DecisionTreeRegressor( max_depth= 4 )\n",
    "AMT = AMT.fit( W_train, Z_train[TARGET_A] )\n",
    "\n",
    "TRAIN_AMT = getAmtAccuracyScores( WHO + \"_Train\", AMT, W_train, Z_train[TARGET_A] )\n",
    "TEST_AMT = getAmtAccuracyScores( WHO, AMT, W_test, Z_test[TARGET_A] )\n",
    "print_Accuracy( WHO + \" RMSE ACCURACY\", [ TRAIN_AMT, TEST_AMT ] )\n",
    "\n",
    "feature_cols = list( X.columns.values )\n",
    "vars_tree_amt = getTreeVars( AMT, feature_cols ) \n",
    "tree.export_graphviz(AMT,out_file='tree_a.txt',filled=True, rounded=True, feature_names = feature_cols, impurity=False, precision=0  )\n",
    "\n",
    "TREE_CLM = TRAIN_BAD.copy()\n",
    "TREE_AMT = TEST_AMT.copy()\n"
   ]
  },
  {
   "cell_type": "code",
   "execution_count": 30,
   "metadata": {},
   "outputs": [
    {
     "data": {
      "text/plain": [
       "['TREE', 6488.967497676028, 12578.879032258064]"
      ]
     },
     "execution_count": 30,
     "metadata": {},
     "output_type": "execute_result"
    }
   ],
   "source": [
    "TREE_AMT"
   ]
  },
  {
   "cell_type": "code",
   "execution_count": 14,
   "metadata": {},
   "outputs": [
    {
     "data": {
      "text/plain": [
       "['LOAN',\n",
       " 'MORTDUE',\n",
       " 'VALUE',\n",
       " 'DEROG',\n",
       " 'DELINQ',\n",
       " 'CLAGE',\n",
       " 'NINQ',\n",
       " 'CLNO',\n",
       " 'DEBTINC']"
      ]
     },
     "execution_count": 14,
     "metadata": {},
     "output_type": "execute_result"
    }
   ],
   "source": [
    "tree.export_graphviz(BAD,out_file='tree_f.txt',filled=True, rounded=True, feature_names = feature_cols, impurity=False, class_names=[\"Good\",\"Bad\"]  )\n",
    "\n",
    "vars_tree_flag = getTreeVars( BAD, feature_cols ) \n",
    "vars_tree_flag"
   ]
  },
  {
   "cell_type": "code",
   "execution_count": 15,
   "metadata": {},
   "outputs": [],
   "source": [
    "U_train = U_train[ vars_tree_flag ]\n",
    "U_test = U_test[ vars_tree_flag ]"
   ]
  },
  {
   "cell_type": "code",
   "execution_count": 40,
   "metadata": {},
   "outputs": [],
   "source": [
    "# define functions and layers in a variable\n",
    "\n",
    "F_theShapeSize = U_train.shape[1]\n",
    "#F_theActivation = tf.keras.activations.relu\n",
    "F_theActivation_input = tf.keras.activations.relu\n",
    "F_theActivation_hidden = tf.keras.activations.sigmoid\n",
    "F_theLossMetric = tf.keras.losses.SparseCategoricalCrossentropy()\n",
    "F_theOptimizer = tf.keras.optimizers.Adam()\n",
    "F_theEpochs = 100\n",
    "\n",
    "#F_theUnits = int( 2*F_theShapeSize / 3 )\n",
    "F_theUnits = int( 2*F_theShapeSize/3)\n",
    "\n",
    "F_LAYER_01 = tf.keras.layers.Dense( units=F_theUnits, activation=F_theActivation_input, input_dim=F_theShapeSize )\n",
    "F_LAYER_DROP = tf.keras.layers.Dropout( 0.2 )\n",
    "F_LAYER_02 = tf.keras.layers.Dense( units=F_theUnits, activation=F_theActivation_hidden )\n",
    "F_LAYER_OUTPUT = tf.keras.layers.Dense( units=2, activation=tf.keras.activations.softmax )\n",
    "\n"
   ]
  },
  {
   "cell_type": "code",
   "execution_count": 41,
   "metadata": {},
   "outputs": [
    {
     "data": {
      "image/png": "[encoded data removed]",
      "text/plain": [
       "<Figure size 432x288 with 1 Axes>"
      ]
     },
     "metadata": {
      "needs_background": "light"
     },
     "output_type": "display_data"
    },
    {
     "name": "stdout",
     "output_type": "stream",
     "text": [
      "TENSORFLOW CLASSIFICATION ACCURACY\n",
      "======\n",
      "TENSORFLOW_Train  =  0.8406040268456376\n",
      "TENSORFLOW  =  0.8271812080536913\n",
      "------\n",
      "\n",
      "\n"
     ]
    }
   ],
   "source": [
    "WHO = \"TENSORFLOW\"\n",
    "CLM = tf.keras.Sequential()\n",
    "CLM.add( F_LAYER_01 )\n",
    "CLM.add( F_LAYER_DROP )\n",
    "CLM.add( F_LAYER_02 )\n",
    "CLM.add( F_LAYER_OUTPUT )\n",
    "CLM.compile( loss=F_theLossMetric, optimizer=F_theOptimizer)\n",
    "CLM.fit( U_train, Y_train[TARGET_F], epochs=F_theEpochs, verbose=False )\n",
    "\n",
    "TRAIN_CLM = get_TF_ProbAccuracyScores( WHO + \"_Train\", CLM, U_train, Y_train[ TARGET_F ] )\n",
    "TEST_CLM = get_TF_ProbAccuracyScores( WHO, CLM, U_test, Y_test[ TARGET_F ] )\n",
    "\n",
    "print_ROC_Curve( WHO, [ TRAIN_CLM, TEST_CLM ] ) \n",
    "print_Accuracy( WHO + \" CLASSIFICATION ACCURACY\", [ TRAIN_CLM, TEST_CLM ] )"
   ]
  },
  {
   "cell_type": "code",
   "execution_count": 25,
   "metadata": {},
   "outputs": [
    {
     "name": "stdout",
     "output_type": "stream",
     "text": [
      "Model: \"sequential_1\"\n",
      "_________________________________________________________________\n",
      "Layer (type)                 Output Shape              Param #   \n",
      "=================================================================\n",
      "dense_3 (Dense)              (None, 6)                 60        \n",
      "_________________________________________________________________\n",
      "dense_5 (Dense)              (None, 2)                 14        \n",
      "=================================================================\n",
      "Total params: 74\n",
      "Trainable params: 74\n",
      "Non-trainable params: 0\n",
      "_________________________________________________________________\n"
     ]
    }
   ],
   "source": [
    "CLM.summary()"
   ]
  },
  {
   "cell_type": "code",
   "execution_count": 47,
   "metadata": {},
   "outputs": [],
   "source": [
    "\"\"\"\n",
    "GRADIENT BOOSTING\n",
    "\"\"\"\n",
    "WHO = \"GB\"\n",
    "\n",
    "CLM = GradientBoostingClassifier( random_state=1  )\n",
    "CLM = CLM.fit( X_train, Y_train[ TARGET_F ] )\n",
    "\n",
    "TRAIN_CLM = getProbAccuracyScores( WHO + \"_Train\", CLM, X_train, Y_train[ TARGET_F ] )\n",
    "TEST_CLM = getProbAccuracyScores( WHO, CLM, X_test, Y_test[ TARGET_F ] )\n",
    "\n",
    "\n",
    "\n",
    "feature_cols = list( X.columns.values )\n",
    "vars_GB_flag = getEnsembleTreeVars( CLM, feature_cols )\n",
    "\n",
    "#vars_GB_flag\n",
    "\n",
    "AMT = GradientBoostingRegressor(random_state=1)\n",
    "AMT = AMT.fit( W_train, Z_train[TARGET_A] )\n",
    "\n",
    "TRAIN_AMT = getAmtAccuracyScores( WHO + \"_Train\", AMT, W_train, Z_train[TARGET_A] )\n",
    "TEST_AMT = getAmtAccuracyScores( WHO, AMT, W_test, Z_test[TARGET_A] )\n",
    "\n",
    "feature_cols = list( X.columns.values )\n",
    "vars_GB_amt = getEnsembleTreeVars( AMT, feature_cols )\n",
    "\n",
    "##for i in vars_RF_amt :\n",
    "##    print( i )\n",
    "\n",
    "GB_CLM = TEST_CLM.copy()\n",
    "GB_AMT = TEST_AMT.copy()"
   ]
  },
  {
   "cell_type": "code",
   "execution_count": 54,
   "metadata": {},
   "outputs": [
    {
     "name": "stdout",
     "output_type": "stream",
     "text": [
      "\n",
      "\n",
      "\n",
      "('DEBTINC', 100)\n",
      "('DEROG', 58)\n",
      "('DELINQ', 42)\n",
      "\n",
      "\n",
      "\n",
      "('LOAN', 100)\n"
     ]
    }
   ],
   "source": [
    "# Gradient Boosting \n",
    "\n",
    "WHO = \"REG_GB\"\n",
    "\n",
    "\n",
    "print(\"\\n\\n\")\n",
    "GB_flag = []\n",
    "for i in vars_GB_flag :\n",
    "    print(i)\n",
    "    theVar = i[0]\n",
    "    GB_flag.append( theVar )\n",
    "\n",
    "print(\"\\n\\n\")\n",
    "GB_amt = []\n",
    "for i in vars_GB_amt :\n",
    "    print(i)\n",
    "    theVar = i[0]\n",
    "    GB_amt.append( theVar )\n"
   ]
  },
  {
   "cell_type": "code",
   "execution_count": 55,
   "metadata": {},
   "outputs": [],
   "source": [
    "V_train = theScaler.transform( W_train )\n",
    "V_test = theScaler.transform( W_test )\n",
    "\n",
    "V_train = pd.DataFrame( V_train )\n",
    "V_test = pd.DataFrame( V_test )\n",
    "\n",
    "V_train.columns = list( W_train.columns.values )\n",
    "V_test.columns = list( W_train.columns.values )\n",
    "\n",
    "V_train = V_train[ GB_amt ]\n",
    "V_test = V_test[ GB_amt ]"
   ]
  },
  {
   "cell_type": "code",
   "execution_count": 65,
   "metadata": {},
   "outputs": [
    {
     "name": "stdout",
     "output_type": "stream",
     "text": [
      "REG_GB RMSE ACCURACY\n",
      "======\n",
      "REG_GB_Train  =  17355.621938132714\n",
      "REG_GB  =  16531.033039704922\n",
      "------\n",
      "\n",
      "\n"
     ]
    }
   ],
   "source": [
    "A_theShapeSize = V_train.shape[1]\n",
    "\n",
    "A_theActivation = tf.keras.activations.relu\n",
    "A_theActivation_hidden = tf.keras.activations.tanh\n",
    "\n",
    "A_theLossMetric = tf.keras.losses.MeanSquaredError()\n",
    "A_theOptimizer = tf.keras.optimizers.Adam()\n",
    "A_theEpochs = 800\n",
    "\n",
    "A_theUnits = int( 2*A_theShapeSize  )\n",
    "\n",
    "A_LAYER_01 = tf.keras.layers.Dense( units=A_theUnits, activation=A_theActivation, input_dim=A_theShapeSize )\n",
    "A_LAYER_DROP = tf.keras.layers.Dropout( 0.2 )\n",
    "A_LAYER_02 = tf.keras.layers.Dense( units=A_theUnits, activation=A_theActivation_hidden )\n",
    "A_LAYER_OUTPUT = tf.keras.layers.Dense( units=1, activation=tf.keras.activations.linear )\n",
    "\n",
    "AMT = tf.keras.Sequential()\n",
    "AMT.add( A_LAYER_01 )\n",
    "#AMT.add( A_LAYER_DROP )\n",
    "AMT.add( A_LAYER_02 )\n",
    "AMT.add( A_LAYER_OUTPUT )\n",
    "AMT.compile( loss=A_theLossMetric, optimizer=A_theOptimizer)\n",
    "AMT.fit( V_train, Z_train[TARGET_A], epochs=A_theEpochs, verbose=False )\n",
    "\n",
    "\n",
    "TRAIN_AMT = getAmtAccuracyScores( WHO + \"_Train\", AMT, V_train[GB_amt], Z_train[TARGET_A] )\n",
    "TEST_AMT = getAmtAccuracyScores( WHO, AMT, V_test[GB_amt], Z_test[TARGET_A] )\n",
    "print_Accuracy( WHO + \" RMSE ACCURACY\", [ TRAIN_AMT, TEST_AMT ] )\n",
    "\n",
    "TF_CLM = TEST_CLM.copy()\n",
    "TF_AMT = TEST_AMT.copy()\n"
   ]
  },
  {
   "cell_type": "code",
   "execution_count": null,
   "metadata": {},
   "outputs": [],
   "source": []
  }
 ],
 "metadata": {
  "kernelspec": {
   "display_name": "Python 3",
   "language": "python",
   "name": "python3"
  },
  "language_info": {
   "codemirror_mode": {
    "name": "ipython",
    "version": 3
   },
   "file_extension": ".py",
   "mimetype": "text/x-python",
   "name": "python",
   "nbconvert_exporter": "python",
   "pygments_lexer": "ipython3",
   "version": "3.6.10"
  }
 },
 "nbformat": 4,
 "nbformat_minor": 4
}
